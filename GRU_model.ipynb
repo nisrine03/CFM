{
  "cells": [
    {
      "cell_type": "code",
      "source": [],
      "metadata": {
        "id": "3Oyz4xknmkgW"
      },
      "id": "3Oyz4xknmkgW",
      "execution_count": null,
      "outputs": []
    },
    {
      "cell_type": "code",
      "execution_count": null,
      "id": "461e3879",
      "metadata": {
        "id": "461e3879",
        "outputId": "59bf5331-c8f9-47ae-df18-2aa948d8749a"
      },
      "outputs": [
        {
          "name": "stdout",
          "output_type": "stream",
          "text": [
            "WARNING:tensorflow:From C:\\Users\\Dell\\anaconda3\\Lib\\site-packages\\keras\\src\\losses.py:2976: The name tf.losses.sparse_softmax_cross_entropy is deprecated. Please use tf.compat.v1.losses.sparse_softmax_cross_entropy instead.\n",
            "\n"
          ]
        }
      ],
      "source": [
        "import tensorflow as tf\n",
        "from tensorflow.keras.layers import GRU, Dense, Input, Bidirectional, Dropout, BatchNormalization\n",
        "from tensorflow.keras.models import Model\n",
        "from tensorflow.keras.optimizers import Adam\n",
        "import pandas as pd\n",
        "import numpy as np\n",
        "from tensorflow.keras.callbacks import EarlyStopping\n",
        "from sklearn.metrics import classification_report, confusion_matrix\n",
        "from tensorflow.keras.layers import Attention, Concatenate"
      ]
    },
    {
      "cell_type": "code",
      "execution_count": null,
      "id": "424ad0bd",
      "metadata": {
        "id": "424ad0bd"
      },
      "outputs": [],
      "source": [
        "# LOAD data\n",
        "X_train =pd.read_csv('C:\\\\Users\\\\Dell\\\\Desktop\\\\CFM\\\\data\\\\X_train.csv')\n",
        "Y_train =pd.read_csv(\"C:\\\\Users\\\\Dell\\\\Desktop\\\\CFM\\\\data\\\\Y_train.csv\")\n",
        "\n",
        "X_test =pd.read_csv(\"C:\\\\Users\\\\Dell\\\\Desktop\\\\CFM\\\\data\\\\X_test.csv\")\n",
        "Y_test =pd.read_csv(\"C:\\\\Users\\\\Dell\\\\Desktop\\\\CFM\\\\data\\\\Y_test.csv\")"
      ]
    },
    {
      "cell_type": "code",
      "execution_count": null,
      "id": "f2e3a080",
      "metadata": {
        "id": "f2e3a080",
        "outputId": "d8601dee-6bf3-44f0-ea3f-378302c5a61f"
      },
      "outputs": [
        {
          "data": {
            "text/html": [
              "<div>\n",
              "<style scoped>\n",
              "    .dataframe tbody tr th:only-of-type {\n",
              "        vertical-align: middle;\n",
              "    }\n",
              "\n",
              "    .dataframe tbody tr th {\n",
              "        vertical-align: top;\n",
              "    }\n",
              "\n",
              "    .dataframe thead th {\n",
              "        text-align: right;\n",
              "    }\n",
              "</style>\n",
              "<table border=\"1\" class=\"dataframe\">\n",
              "  <thead>\n",
              "    <tr style=\"text-align: right;\">\n",
              "      <th></th>\n",
              "      <th>obs_id</th>\n",
              "      <th>venue</th>\n",
              "      <th>order_id</th>\n",
              "      <th>action</th>\n",
              "      <th>side</th>\n",
              "      <th>price</th>\n",
              "      <th>bid</th>\n",
              "      <th>ask</th>\n",
              "      <th>bid_size</th>\n",
              "      <th>ask_size</th>\n",
              "      <th>trade</th>\n",
              "      <th>flux</th>\n",
              "    </tr>\n",
              "  </thead>\n",
              "  <tbody>\n",
              "    <tr>\n",
              "      <th>0</th>\n",
              "      <td>0</td>\n",
              "      <td>4</td>\n",
              "      <td>0</td>\n",
              "      <td>A</td>\n",
              "      <td>A</td>\n",
              "      <td>0.30</td>\n",
              "      <td>0.0</td>\n",
              "      <td>0.01</td>\n",
              "      <td>100</td>\n",
              "      <td>1</td>\n",
              "      <td>False</td>\n",
              "      <td>100</td>\n",
              "    </tr>\n",
              "    <tr>\n",
              "      <th>1</th>\n",
              "      <td>0</td>\n",
              "      <td>4</td>\n",
              "      <td>1</td>\n",
              "      <td>A</td>\n",
              "      <td>B</td>\n",
              "      <td>-0.17</td>\n",
              "      <td>0.0</td>\n",
              "      <td>0.01</td>\n",
              "      <td>100</td>\n",
              "      <td>1</td>\n",
              "      <td>False</td>\n",
              "      <td>100</td>\n",
              "    </tr>\n",
              "    <tr>\n",
              "      <th>2</th>\n",
              "      <td>0</td>\n",
              "      <td>4</td>\n",
              "      <td>2</td>\n",
              "      <td>D</td>\n",
              "      <td>A</td>\n",
              "      <td>0.28</td>\n",
              "      <td>0.0</td>\n",
              "      <td>0.01</td>\n",
              "      <td>100</td>\n",
              "      <td>1</td>\n",
              "      <td>False</td>\n",
              "      <td>-100</td>\n",
              "    </tr>\n",
              "    <tr>\n",
              "      <th>3</th>\n",
              "      <td>0</td>\n",
              "      <td>4</td>\n",
              "      <td>3</td>\n",
              "      <td>A</td>\n",
              "      <td>A</td>\n",
              "      <td>0.30</td>\n",
              "      <td>0.0</td>\n",
              "      <td>0.01</td>\n",
              "      <td>100</td>\n",
              "      <td>1</td>\n",
              "      <td>False</td>\n",
              "      <td>100</td>\n",
              "    </tr>\n",
              "    <tr>\n",
              "      <th>4</th>\n",
              "      <td>0</td>\n",
              "      <td>4</td>\n",
              "      <td>4</td>\n",
              "      <td>D</td>\n",
              "      <td>A</td>\n",
              "      <td>0.37</td>\n",
              "      <td>0.0</td>\n",
              "      <td>0.01</td>\n",
              "      <td>100</td>\n",
              "      <td>1</td>\n",
              "      <td>False</td>\n",
              "      <td>-100</td>\n",
              "    </tr>\n",
              "  </tbody>\n",
              "</table>\n",
              "</div>"
            ],
            "text/plain": [
              "   obs_id  venue  order_id action side  price  bid   ask  bid_size  ask_size  \\\n",
              "0       0      4         0      A    A   0.30  0.0  0.01       100         1   \n",
              "1       0      4         1      A    B  -0.17  0.0  0.01       100         1   \n",
              "2       0      4         2      D    A   0.28  0.0  0.01       100         1   \n",
              "3       0      4         3      A    A   0.30  0.0  0.01       100         1   \n",
              "4       0      4         4      D    A   0.37  0.0  0.01       100         1   \n",
              "\n",
              "   trade  flux  \n",
              "0  False   100  \n",
              "1  False   100  \n",
              "2  False  -100  \n",
              "3  False   100  \n",
              "4  False  -100  "
            ]
          },
          "execution_count": 3,
          "metadata": {},
          "output_type": "execute_result"
        }
      ],
      "source": [
        "X_train.head(5)"
      ]
    },
    {
      "cell_type": "markdown",
      "id": "5d7cdb29",
      "metadata": {
        "id": "5d7cdb29"
      },
      "source": [
        "# <span style=\"color:red;\">Data Preparation </span>"
      ]
    },
    {
      "cell_type": "markdown",
      "id": "39f24039",
      "metadata": {
        "id": "39f24039"
      },
      "source": [
        "## <span style=\"color:orange;\">1)Embedding training data </span>"
      ]
    },
    {
      "cell_type": "code",
      "execution_count": null,
      "id": "bc25c8a0",
      "metadata": {
        "id": "bc25c8a0"
      },
      "outputs": [],
      "source": [
        "def one_hot_encode(df, column, num_categories=8):\n",
        "\n",
        "    encoded_df = pd.get_dummies(df[column], prefix=column)\n",
        "\n",
        "    expected_columns = [f\"{column}_{i}\" for i in range(num_categories)]\n",
        "\n",
        "    for col in expected_columns:\n",
        "        if col not in encoded_df.columns:\n",
        "            encoded_df[col] = 0\n",
        "\n",
        "    encoded_df = encoded_df[expected_columns]\n",
        "\n",
        "    return encoded_df"
      ]
    },
    {
      "cell_type": "code",
      "execution_count": null,
      "id": "a5af955d",
      "metadata": {
        "id": "a5af955d"
      },
      "outputs": [],
      "source": [
        "df1 = one_hot_encode(X_train, 'venue', 8)\n",
        "df3 = one_hot_encode(X_train, 'trade', 8)"
      ]
    },
    {
      "cell_type": "code",
      "execution_count": null,
      "id": "efdd55d1",
      "metadata": {
        "id": "efdd55d1",
        "outputId": "1ad4ec2a-30b9-49a7-cc27-c4efdc79598e"
      },
      "outputs": [
        {
          "data": {
            "text/html": [
              "<div>\n",
              "<style scoped>\n",
              "    .dataframe tbody tr th:only-of-type {\n",
              "        vertical-align: middle;\n",
              "    }\n",
              "\n",
              "    .dataframe tbody tr th {\n",
              "        vertical-align: top;\n",
              "    }\n",
              "\n",
              "    .dataframe thead th {\n",
              "        text-align: right;\n",
              "    }\n",
              "</style>\n",
              "<table border=\"1\" class=\"dataframe\">\n",
              "  <thead>\n",
              "    <tr style=\"text-align: right;\">\n",
              "      <th></th>\n",
              "      <th>venue_0</th>\n",
              "      <th>venue_1</th>\n",
              "      <th>venue_2</th>\n",
              "      <th>venue_3</th>\n",
              "      <th>venue_4</th>\n",
              "      <th>venue_5</th>\n",
              "      <th>venue_6</th>\n",
              "      <th>venue_7</th>\n",
              "    </tr>\n",
              "  </thead>\n",
              "  <tbody>\n",
              "    <tr>\n",
              "      <th>0</th>\n",
              "      <td>0</td>\n",
              "      <td>0</td>\n",
              "      <td>0</td>\n",
              "      <td>0</td>\n",
              "      <td>1</td>\n",
              "      <td>0</td>\n",
              "      <td>0</td>\n",
              "      <td>0</td>\n",
              "    </tr>\n",
              "    <tr>\n",
              "      <th>1</th>\n",
              "      <td>0</td>\n",
              "      <td>0</td>\n",
              "      <td>0</td>\n",
              "      <td>0</td>\n",
              "      <td>1</td>\n",
              "      <td>0</td>\n",
              "      <td>0</td>\n",
              "      <td>0</td>\n",
              "    </tr>\n",
              "    <tr>\n",
              "      <th>2</th>\n",
              "      <td>0</td>\n",
              "      <td>0</td>\n",
              "      <td>0</td>\n",
              "      <td>0</td>\n",
              "      <td>1</td>\n",
              "      <td>0</td>\n",
              "      <td>0</td>\n",
              "      <td>0</td>\n",
              "    </tr>\n",
              "    <tr>\n",
              "      <th>3</th>\n",
              "      <td>0</td>\n",
              "      <td>0</td>\n",
              "      <td>0</td>\n",
              "      <td>0</td>\n",
              "      <td>1</td>\n",
              "      <td>0</td>\n",
              "      <td>0</td>\n",
              "      <td>0</td>\n",
              "    </tr>\n",
              "    <tr>\n",
              "      <th>4</th>\n",
              "      <td>0</td>\n",
              "      <td>0</td>\n",
              "      <td>0</td>\n",
              "      <td>0</td>\n",
              "      <td>1</td>\n",
              "      <td>0</td>\n",
              "      <td>0</td>\n",
              "      <td>0</td>\n",
              "    </tr>\n",
              "  </tbody>\n",
              "</table>\n",
              "</div>"
            ],
            "text/plain": [
              "   venue_0  venue_1  venue_2  venue_3  venue_4  venue_5  venue_6  venue_7\n",
              "0        0        0        0        0        1        0        0        0\n",
              "1        0        0        0        0        1        0        0        0\n",
              "2        0        0        0        0        1        0        0        0\n",
              "3        0        0        0        0        1        0        0        0\n",
              "4        0        0        0        0        1        0        0        0"
            ]
          },
          "execution_count": 6,
          "metadata": {},
          "output_type": "execute_result"
        }
      ],
      "source": [
        "df1.head(5)"
      ]
    },
    {
      "cell_type": "code",
      "execution_count": null,
      "id": "26f1102a",
      "metadata": {
        "id": "26f1102a",
        "outputId": "2043456d-c7bc-4f64-c1c2-062943e876dd"
      },
      "outputs": [
        {
          "data": {
            "text/html": [
              "<div>\n",
              "<style scoped>\n",
              "    .dataframe tbody tr th:only-of-type {\n",
              "        vertical-align: middle;\n",
              "    }\n",
              "\n",
              "    .dataframe tbody tr th {\n",
              "        vertical-align: top;\n",
              "    }\n",
              "\n",
              "    .dataframe thead th {\n",
              "        text-align: right;\n",
              "    }\n",
              "</style>\n",
              "<table border=\"1\" class=\"dataframe\">\n",
              "  <thead>\n",
              "    <tr style=\"text-align: right;\">\n",
              "      <th></th>\n",
              "      <th>trade_0</th>\n",
              "      <th>trade_1</th>\n",
              "      <th>trade_2</th>\n",
              "      <th>trade_3</th>\n",
              "      <th>trade_4</th>\n",
              "      <th>trade_5</th>\n",
              "      <th>trade_6</th>\n",
              "      <th>trade_7</th>\n",
              "    </tr>\n",
              "  </thead>\n",
              "  <tbody>\n",
              "    <tr>\n",
              "      <th>0</th>\n",
              "      <td>0</td>\n",
              "      <td>0</td>\n",
              "      <td>0</td>\n",
              "      <td>0</td>\n",
              "      <td>0</td>\n",
              "      <td>0</td>\n",
              "      <td>0</td>\n",
              "      <td>0</td>\n",
              "    </tr>\n",
              "    <tr>\n",
              "      <th>1</th>\n",
              "      <td>0</td>\n",
              "      <td>0</td>\n",
              "      <td>0</td>\n",
              "      <td>0</td>\n",
              "      <td>0</td>\n",
              "      <td>0</td>\n",
              "      <td>0</td>\n",
              "      <td>0</td>\n",
              "    </tr>\n",
              "    <tr>\n",
              "      <th>2</th>\n",
              "      <td>0</td>\n",
              "      <td>0</td>\n",
              "      <td>0</td>\n",
              "      <td>0</td>\n",
              "      <td>0</td>\n",
              "      <td>0</td>\n",
              "      <td>0</td>\n",
              "      <td>0</td>\n",
              "    </tr>\n",
              "    <tr>\n",
              "      <th>3</th>\n",
              "      <td>0</td>\n",
              "      <td>0</td>\n",
              "      <td>0</td>\n",
              "      <td>0</td>\n",
              "      <td>0</td>\n",
              "      <td>0</td>\n",
              "      <td>0</td>\n",
              "      <td>0</td>\n",
              "    </tr>\n",
              "    <tr>\n",
              "      <th>4</th>\n",
              "      <td>0</td>\n",
              "      <td>0</td>\n",
              "      <td>0</td>\n",
              "      <td>0</td>\n",
              "      <td>0</td>\n",
              "      <td>0</td>\n",
              "      <td>0</td>\n",
              "      <td>0</td>\n",
              "    </tr>\n",
              "  </tbody>\n",
              "</table>\n",
              "</div>"
            ],
            "text/plain": [
              "   trade_0  trade_1  trade_2  trade_3  trade_4  trade_5  trade_6  trade_7\n",
              "0        0        0        0        0        0        0        0        0\n",
              "1        0        0        0        0        0        0        0        0\n",
              "2        0        0        0        0        0        0        0        0\n",
              "3        0        0        0        0        0        0        0        0\n",
              "4        0        0        0        0        0        0        0        0"
            ]
          },
          "execution_count": 7,
          "metadata": {},
          "output_type": "execute_result"
        }
      ],
      "source": [
        "df3.head(5)"
      ]
    },
    {
      "cell_type": "code",
      "execution_count": null,
      "id": "fda10fa5",
      "metadata": {
        "id": "fda10fa5"
      },
      "outputs": [],
      "source": [
        "# Encodage one-hot avec 8 colonnes\n",
        "encoded_columns = pd.get_dummies(X_train['action'], prefix='action')\n",
        "\n",
        "encoded_columns['action_0'] = 0\n",
        "\n",
        "encoded_columns = encoded_columns[['action_0'] + [col for col in encoded_columns.columns if col != 'action_0']]\n",
        "\n",
        "# Ajout des colonnes manquantes avec des zéros si nécessaire\n",
        "num_of_new_columns = 8\n",
        "for i in range(num_of_new_columns - encoded_columns.shape[1]):\n",
        "    encoded_columns[f'action_{encoded_columns.shape[1]}'] = 0"
      ]
    },
    {
      "cell_type": "code",
      "execution_count": null,
      "id": "6300bcf2",
      "metadata": {
        "id": "6300bcf2"
      },
      "outputs": [],
      "source": [
        "df2=pd.DataFrame(encoded_columns)"
      ]
    },
    {
      "cell_type": "code",
      "execution_count": null,
      "id": "5a3d0dbb",
      "metadata": {
        "id": "5a3d0dbb",
        "outputId": "e95092d1-f329-4f1f-9a9c-4c66b20c67e5"
      },
      "outputs": [
        {
          "data": {
            "text/html": [
              "<div>\n",
              "<style scoped>\n",
              "    .dataframe tbody tr th:only-of-type {\n",
              "        vertical-align: middle;\n",
              "    }\n",
              "\n",
              "    .dataframe tbody tr th {\n",
              "        vertical-align: top;\n",
              "    }\n",
              "\n",
              "    .dataframe thead th {\n",
              "        text-align: right;\n",
              "    }\n",
              "</style>\n",
              "<table border=\"1\" class=\"dataframe\">\n",
              "  <thead>\n",
              "    <tr style=\"text-align: right;\">\n",
              "      <th></th>\n",
              "      <th>action_0</th>\n",
              "      <th>action_A</th>\n",
              "      <th>action_D</th>\n",
              "      <th>action_U</th>\n",
              "      <th>action_4</th>\n",
              "      <th>action_5</th>\n",
              "      <th>action_6</th>\n",
              "      <th>action_7</th>\n",
              "    </tr>\n",
              "  </thead>\n",
              "  <tbody>\n",
              "    <tr>\n",
              "      <th>0</th>\n",
              "      <td>0</td>\n",
              "      <td>1</td>\n",
              "      <td>0</td>\n",
              "      <td>0</td>\n",
              "      <td>0</td>\n",
              "      <td>0</td>\n",
              "      <td>0</td>\n",
              "      <td>0</td>\n",
              "    </tr>\n",
              "    <tr>\n",
              "      <th>1</th>\n",
              "      <td>0</td>\n",
              "      <td>1</td>\n",
              "      <td>0</td>\n",
              "      <td>0</td>\n",
              "      <td>0</td>\n",
              "      <td>0</td>\n",
              "      <td>0</td>\n",
              "      <td>0</td>\n",
              "    </tr>\n",
              "    <tr>\n",
              "      <th>2</th>\n",
              "      <td>0</td>\n",
              "      <td>0</td>\n",
              "      <td>1</td>\n",
              "      <td>0</td>\n",
              "      <td>0</td>\n",
              "      <td>0</td>\n",
              "      <td>0</td>\n",
              "      <td>0</td>\n",
              "    </tr>\n",
              "    <tr>\n",
              "      <th>3</th>\n",
              "      <td>0</td>\n",
              "      <td>1</td>\n",
              "      <td>0</td>\n",
              "      <td>0</td>\n",
              "      <td>0</td>\n",
              "      <td>0</td>\n",
              "      <td>0</td>\n",
              "      <td>0</td>\n",
              "    </tr>\n",
              "    <tr>\n",
              "      <th>4</th>\n",
              "      <td>0</td>\n",
              "      <td>0</td>\n",
              "      <td>1</td>\n",
              "      <td>0</td>\n",
              "      <td>0</td>\n",
              "      <td>0</td>\n",
              "      <td>0</td>\n",
              "      <td>0</td>\n",
              "    </tr>\n",
              "  </tbody>\n",
              "</table>\n",
              "</div>"
            ],
            "text/plain": [
              "   action_0  action_A  action_D  action_U  action_4  action_5  action_6  \\\n",
              "0         0         1         0         0         0         0         0   \n",
              "1         0         1         0         0         0         0         0   \n",
              "2         0         0         1         0         0         0         0   \n",
              "3         0         1         0         0         0         0         0   \n",
              "4         0         0         1         0         0         0         0   \n",
              "\n",
              "   action_7  \n",
              "0         0  \n",
              "1         0  \n",
              "2         0  \n",
              "3         0  \n",
              "4         0  "
            ]
          },
          "execution_count": 10,
          "metadata": {},
          "output_type": "execute_result"
        }
      ],
      "source": [
        "df2.head(5)"
      ]
    },
    {
      "cell_type": "code",
      "execution_count": null,
      "id": "fcf5d74a",
      "metadata": {
        "id": "fcf5d74a",
        "outputId": "c70e908c-6df1-4664-ea67-7135ec0ef23c"
      },
      "outputs": [
        {
          "data": {
            "text/html": [
              "<div>\n",
              "<style scoped>\n",
              "    .dataframe tbody tr th:only-of-type {\n",
              "        vertical-align: middle;\n",
              "    }\n",
              "\n",
              "    .dataframe tbody tr th {\n",
              "        vertical-align: top;\n",
              "    }\n",
              "\n",
              "    .dataframe thead th {\n",
              "        text-align: right;\n",
              "    }\n",
              "</style>\n",
              "<table border=\"1\" class=\"dataframe\">\n",
              "  <thead>\n",
              "    <tr style=\"text-align: right;\">\n",
              "      <th></th>\n",
              "      <th>trade_0</th>\n",
              "      <th>trade_1</th>\n",
              "      <th>trade_2</th>\n",
              "      <th>trade_3</th>\n",
              "      <th>trade_4</th>\n",
              "      <th>trade_5</th>\n",
              "      <th>trade_6</th>\n",
              "      <th>trade_7</th>\n",
              "    </tr>\n",
              "  </thead>\n",
              "  <tbody>\n",
              "    <tr>\n",
              "      <th>0</th>\n",
              "      <td>0</td>\n",
              "      <td>0</td>\n",
              "      <td>0</td>\n",
              "      <td>0</td>\n",
              "      <td>0</td>\n",
              "      <td>0</td>\n",
              "      <td>0</td>\n",
              "      <td>0</td>\n",
              "    </tr>\n",
              "    <tr>\n",
              "      <th>1</th>\n",
              "      <td>0</td>\n",
              "      <td>0</td>\n",
              "      <td>0</td>\n",
              "      <td>0</td>\n",
              "      <td>0</td>\n",
              "      <td>0</td>\n",
              "      <td>0</td>\n",
              "      <td>0</td>\n",
              "    </tr>\n",
              "    <tr>\n",
              "      <th>2</th>\n",
              "      <td>0</td>\n",
              "      <td>0</td>\n",
              "      <td>0</td>\n",
              "      <td>0</td>\n",
              "      <td>0</td>\n",
              "      <td>0</td>\n",
              "      <td>0</td>\n",
              "      <td>0</td>\n",
              "    </tr>\n",
              "    <tr>\n",
              "      <th>3</th>\n",
              "      <td>0</td>\n",
              "      <td>0</td>\n",
              "      <td>0</td>\n",
              "      <td>0</td>\n",
              "      <td>0</td>\n",
              "      <td>0</td>\n",
              "      <td>0</td>\n",
              "      <td>0</td>\n",
              "    </tr>\n",
              "    <tr>\n",
              "      <th>4</th>\n",
              "      <td>0</td>\n",
              "      <td>0</td>\n",
              "      <td>0</td>\n",
              "      <td>0</td>\n",
              "      <td>0</td>\n",
              "      <td>0</td>\n",
              "      <td>0</td>\n",
              "      <td>0</td>\n",
              "    </tr>\n",
              "  </tbody>\n",
              "</table>\n",
              "</div>"
            ],
            "text/plain": [
              "   trade_0  trade_1  trade_2  trade_3  trade_4  trade_5  trade_6  trade_7\n",
              "0        0        0        0        0        0        0        0        0\n",
              "1        0        0        0        0        0        0        0        0\n",
              "2        0        0        0        0        0        0        0        0\n",
              "3        0        0        0        0        0        0        0        0\n",
              "4        0        0        0        0        0        0        0        0"
            ]
          },
          "execution_count": 11,
          "metadata": {},
          "output_type": "execute_result"
        }
      ],
      "source": [
        "df3.head(5)"
      ]
    },
    {
      "cell_type": "code",
      "execution_count": null,
      "id": "f23aa712",
      "metadata": {
        "id": "f23aa712"
      },
      "outputs": [],
      "source": [
        "# Log Transform\n",
        "X_train['flux'] = X_train['flux'] - X_train['flux'].min() + 1\n",
        "data = {\n",
        "    'log(bid_size+1)': np.sign(X_train['bid_size']) * np.log(np.abs(X_train['bid_size']) + 1),\n",
        "    'log(ask_size+1)': np.log(X_train['ask_size'] + 1),\n",
        "    'log(flux)': np.log(X_train['flux'])\n",
        "}\n",
        "dfa = pd.DataFrame(data)\n",
        "X_selected = X_train[['bid', 'ask', 'price']]"
      ]
    },
    {
      "cell_type": "code",
      "execution_count": null,
      "id": "fdd2b0b6",
      "metadata": {
        "id": "fdd2b0b6"
      },
      "outputs": [],
      "source": [
        "# Combiner les features\n",
        "df_combined = pd.concat([df1, df2, df3, X_selected, dfa], axis=1)\n",
        "\n",
        "\n",
        "num_sequences = len(df_combined) // 100\n",
        "X_reshaped = df_combined.iloc[:num_sequences * 100].values.reshape(num_sequences, 100, 30)\n",
        "\n",
        "\n",
        "Y_labels = pd.get_dummies(Y_train['eqt_code_cat']).values\n",
        "Y_reshaped = Y_labels[:num_sequences]\n",
        "\n",
        "# Conversion en tenseurs\n",
        "X_tensor = tf.convert_to_tensor(X_reshaped, dtype=tf.float32)\n",
        "Y_tensor = tf.convert_to_tensor(Y_reshaped, dtype=tf.float32)"
      ]
    },
    {
      "cell_type": "markdown",
      "id": "c10c56ee",
      "metadata": {
        "id": "c10c56ee"
      },
      "source": [
        "## <span style=\"color:orange;\">2)Embedding test Data </span>"
      ]
    },
    {
      "cell_type": "code",
      "execution_count": null,
      "id": "fbe6caa4",
      "metadata": {
        "id": "fbe6caa4"
      },
      "outputs": [],
      "source": [
        "# Appliquer le one-hot encoding aux colonnes 'venue', 'action', et 'trade' pour X_test\n",
        "df1_test = one_hot_encode(X_test, 'venue', 8)\n",
        "df3_test = one_hot_encode(X_test, 'trade', 8)"
      ]
    },
    {
      "cell_type": "code",
      "execution_count": null,
      "id": "d48198a0",
      "metadata": {
        "id": "d48198a0"
      },
      "outputs": [],
      "source": [
        "# Encodage one-hot avec 8 colonnes\n",
        "encoded_columns = pd.get_dummies(X_test['action'], prefix='action')\n",
        "\n",
        "\n",
        "encoded_columns['action_0'] = 0\n",
        "\n",
        "\n",
        "encoded_columns = encoded_columns[['action_0'] + [col for col in encoded_columns.columns if col != 'action_0']]\n",
        "\n",
        "# Ajout des colonnes manquantes avec des zéros si nécessaire\n",
        "num_of_new_columns = 8\n",
        "for i in range(num_of_new_columns - encoded_columns.shape[1]):\n",
        "    encoded_columns[f'action_{encoded_columns.shape[1]}'] = 0"
      ]
    },
    {
      "cell_type": "code",
      "execution_count": null,
      "id": "69908f83",
      "metadata": {
        "id": "69908f83"
      },
      "outputs": [],
      "source": [
        "df2_test=pd.DataFrame(encoded_columns)"
      ]
    },
    {
      "cell_type": "code",
      "execution_count": null,
      "id": "9bb76bad",
      "metadata": {
        "id": "9bb76bad"
      },
      "outputs": [],
      "source": [
        "#Log Transform pour X_test\n",
        "X_test['flux'] = X_test['flux'] - X_test['flux'].min() + 1\n",
        "data_test = {\n",
        "    'log(bid_size+1)':np.sign(X_test['bid_size']) * np.log(np.abs(X_test['bid_size']) + 1),\n",
        "    'log(ask_size+1)': np.log(X_test['ask_size'] + 1),\n",
        "    'log(flux)': np.log(X_test['flux'])\n",
        "}\n",
        "dfa_test = pd.DataFrame(data_test)\n",
        "X_selected_test = X_test[['bid', 'ask', 'price']]"
      ]
    },
    {
      "cell_type": "code",
      "execution_count": null,
      "id": "c4ce2467",
      "metadata": {
        "id": "c4ce2467"
      },
      "outputs": [],
      "source": [
        "# Combiner les features pour X_test\n",
        "df_combined_test = pd.concat([df1_test, df2_test, df3_test, X_selected_test, dfa_test], axis=1)\n",
        "\n",
        "\n",
        "num_sequences_test = len(df_combined_test) // 100\n",
        "\n",
        "X_combined_test = df_combined_test.iloc[:num_sequences_test * 100]\n",
        "\n",
        "\n",
        "X_reshaped_test = X_combined_test.values.reshape(num_sequences_test, 100, 30)\n",
        "\n",
        "\n",
        "Y_labels_test = pd.get_dummies(Y_test['eqt_code_cat']).values\n",
        "\n",
        "\n",
        "Y_reshaped_test = Y_labels_test[:num_sequences_test]\n",
        "\n",
        "# Conversion en tenseurs pour X_test et Y_test\n",
        "X_tensor_test = tf.convert_to_tensor(X_reshaped_test, dtype=tf.float32)\n",
        "Y_tensor_test = tf.convert_to_tensor(Y_reshaped_test, dtype=tf.float32)"
      ]
    },
    {
      "cell_type": "markdown",
      "id": "79b20b92",
      "metadata": {
        "id": "79b20b92"
      },
      "source": [
        "# <span style=\"color:red;\">Creation de modele </span>"
      ]
    },
    {
      "cell_type": "code",
      "execution_count": null,
      "id": "414955d8",
      "metadata": {
        "id": "414955d8",
        "outputId": "820a6ae3-417f-418a-96fe-11241f795c81"
      },
      "outputs": [
        {
          "name": "stdout",
          "output_type": "stream",
          "text": [
            "WARNING:tensorflow:From C:\\Users\\Dell\\anaconda3\\Lib\\site-packages\\keras\\src\\backend.py:1398: The name tf.executing_eagerly_outside_functions is deprecated. Please use tf.compat.v1.executing_eagerly_outside_functions instead.\n",
            "\n",
            "Model: \"model\"\n",
            "_________________________________________________________________\n",
            " Layer (type)                Output Shape              Param #   \n",
            "=================================================================\n",
            " input_1 (InputLayer)        [(None, 100, 30)]         0         \n",
            "                                                                 \n",
            " bidirectional (Bidirection  (None, 100, 128)          36864     \n",
            " al)                                                             \n",
            "                                                                 \n",
            " dropout (Dropout)           (None, 100, 128)          0         \n",
            "                                                                 \n",
            " batch_normalization (Batch  (None, 100, 128)          512       \n",
            " Normalization)                                                  \n",
            "                                                                 \n",
            " bidirectional_1 (Bidirecti  (None, 128)               74496     \n",
            " onal)                                                           \n",
            "                                                                 \n",
            " dropout_1 (Dropout)         (None, 128)               0         \n",
            "                                                                 \n",
            " batch_normalization_1 (Bat  (None, 128)               512       \n",
            " chNormalization)                                                \n",
            "                                                                 \n",
            " dense (Dense)               (None, 128)               16512     \n",
            "                                                                 \n",
            " dropout_2 (Dropout)         (None, 128)               0         \n",
            "                                                                 \n",
            " dense_1 (Dense)             (None, 64)                8256      \n",
            "                                                                 \n",
            " dense_2 (Dense)             (None, 24)                1560      \n",
            "                                                                 \n",
            "=================================================================\n",
            "Total params: 138712 (541.84 KB)\n",
            "Trainable params: 138200 (539.84 KB)\n",
            "Non-trainable params: 512 (2.00 KB)\n",
            "_________________________________________________________________\n"
          ]
        }
      ],
      "source": [
        "\n",
        "# Définir la taille d'une observation\n",
        "sequence_length = 100\n",
        "feature_dim = 30\n",
        "\n",
        "# Définir l'entrée du modèle\n",
        "input_layer = Input(shape=(sequence_length, feature_dim))\n",
        "\n",
        "# Ajouter des couches GRU bidirectionnelles avec Dropout et Batch Normalization\n",
        "gru_1 = Bidirectional(GRU(64, return_sequences=True))(input_layer)\n",
        "dropout_1 = Dropout(0.2)(gru_1)\n",
        "batch_norm_1 = BatchNormalization()(dropout_1)\n",
        "\n",
        "# mécanisme d'attention après la première couche GRU bidirectionnelle\n",
        "attention = Attention()([batch_norm_1, batch_norm_1])\n",
        "concatenated = Concatenate()([attention, batch_norm_1])\n",
        "\n",
        "\n",
        "gru_2 = Bidirectional(GRU(64))(batch_norm_1)\n",
        "dropout_2 = Dropout(0.2)(gru_2)\n",
        "batch_norm_2 = BatchNormalization()(dropout_2)\n",
        "\n",
        "# Ajouter des couches Denses\n",
        "dense_1 = Dense(128, activation='selu')(batch_norm_2)\n",
        "dropout_3 = Dropout(0.2)(dense_1)\n",
        "dense_2 = Dense(64, activation='selu')(dropout_3)\n",
        "output_layer = Dense(24, activation='softmax')(dense_2)\n",
        "\n",
        "# Créer le modèle\n",
        "model = Model(inputs=input_layer, outputs=output_layer)\n",
        "\n",
        "# Compiler le modèle\n",
        "optimizer = Adam(learning_rate=3e-3)\n",
        "model.compile(loss='categorical_crossentropy', optimizer=optimizer, metrics=['accuracy'])\n",
        "\n",
        "# Afficher un résumé du modèle\n",
        "model.summary()"
      ]
    },
    {
      "cell_type": "code",
      "execution_count": null,
      "id": "c1f4917d",
      "metadata": {
        "id": "c1f4917d",
        "outputId": "847f8bd5-f063-488f-875a-ccfa8b1e3217"
      },
      "outputs": [
        {
          "name": "stdout",
          "output_type": "stream",
          "text": [
            "Model: \"model\"\n",
            "_________________________________________________________________\n",
            " Layer (type)                Output Shape              Param #   \n",
            "=================================================================\n",
            " input_1 (InputLayer)        [(None, 100, 30)]         0         \n",
            "                                                                 \n",
            " bidirectional (Bidirection  (None, 100, 128)          36864     \n",
            " al)                                                             \n",
            "                                                                 \n",
            " dropout (Dropout)           (None, 100, 128)          0         \n",
            "                                                                 \n",
            " batch_normalization (Batch  (None, 100, 128)          512       \n",
            " Normalization)                                                  \n",
            "                                                                 \n",
            " bidirectional_1 (Bidirecti  (None, 128)               74496     \n",
            " onal)                                                           \n",
            "                                                                 \n",
            " dropout_1 (Dropout)         (None, 128)               0         \n",
            "                                                                 \n",
            " batch_normalization_1 (Bat  (None, 128)               512       \n",
            " chNormalization)                                                \n",
            "                                                                 \n",
            " dense (Dense)               (None, 128)               16512     \n",
            "                                                                 \n",
            " dropout_2 (Dropout)         (None, 128)               0         \n",
            "                                                                 \n",
            " dense_1 (Dense)             (None, 64)                8256      \n",
            "                                                                 \n",
            " dense_2 (Dense)             (None, 24)                1560      \n",
            "                                                                 \n",
            "=================================================================\n",
            "Total params: 138712 (541.84 KB)\n",
            "Trainable params: 138200 (539.84 KB)\n",
            "Non-trainable params: 512 (2.00 KB)\n",
            "_________________________________________________________________\n"
          ]
        }
      ],
      "source": [
        "# Compiler le modèle\n",
        "optimizer = Adam(learning_rate=3e-3)\n",
        "model.compile(loss='categorical_crossentropy', optimizer=optimizer, metrics=['accuracy'])\n",
        "\n",
        "# Afficher un résumé du modèle\n",
        "model.summary()"
      ]
    },
    {
      "cell_type": "markdown",
      "id": "cce74897",
      "metadata": {
        "id": "cce74897"
      },
      "source": [
        "# <span style=\"color:red;\">Entrainement de modele </span>"
      ]
    },
    {
      "cell_type": "code",
      "execution_count": null,
      "id": "0f9b8464",
      "metadata": {
        "id": "0f9b8464",
        "outputId": "2fa40c2b-83fb-470c-c1f0-faf585078152"
      },
      "outputs": [
        {
          "name": "stdout",
          "output_type": "stream",
          "text": [
            "Epoch 1/40\n",
            "WARNING:tensorflow:From C:\\Users\\Dell\\anaconda3\\Lib\\site-packages\\keras\\src\\utils\\tf_utils.py:492: The name tf.ragged.RaggedTensorValue is deprecated. Please use tf.compat.v1.ragged.RaggedTensorValue instead.\n",
            "\n",
            "WARNING:tensorflow:From C:\\Users\\Dell\\anaconda3\\Lib\\site-packages\\keras\\src\\engine\\base_layer_utils.py:384: The name tf.executing_eagerly_outside_functions is deprecated. Please use tf.compat.v1.executing_eagerly_outside_functions instead.\n",
            "\n",
            "116/116 [==============================] - 171s 1s/step - loss: 2.6120 - accuracy: 0.1718 - val_loss: 2.8660 - val_accuracy: 0.1400\n",
            "Epoch 2/40\n",
            "116/116 [==============================] - 737s 6s/step - loss: 2.1739 - accuracy: 0.2720 - val_loss: 2.1643 - val_accuracy: 0.2801\n",
            "Epoch 3/40\n",
            "116/116 [==============================] - 160s 1s/step - loss: 2.0424 - accuracy: 0.3131 - val_loss: 1.9815 - val_accuracy: 0.3232\n",
            "Epoch 4/40\n",
            "116/116 [==============================] - 403s 3s/step - loss: 1.8903 - accuracy: 0.3551 - val_loss: 1.8273 - val_accuracy: 0.3639\n",
            "Epoch 5/40\n",
            "116/116 [==============================] - 162s 1s/step - loss: 1.7542 - accuracy: 0.3956 - val_loss: 1.7447 - val_accuracy: 0.4023\n",
            "Epoch 6/40\n",
            "116/116 [==============================] - 166s 1s/step - loss: 1.6611 - accuracy: 0.4246 - val_loss: 1.7654 - val_accuracy: 0.4009\n",
            "Epoch 7/40\n",
            "116/116 [==============================] - 190s 2s/step - loss: 1.5853 - accuracy: 0.4492 - val_loss: 1.5781 - val_accuracy: 0.4478\n",
            "Epoch 8/40\n",
            "116/116 [==============================] - 171s 1s/step - loss: 1.5263 - accuracy: 0.4708 - val_loss: 1.5280 - val_accuracy: 0.4647\n",
            "Epoch 9/40\n",
            "116/116 [==============================] - 182s 2s/step - loss: 1.4766 - accuracy: 0.4850 - val_loss: 1.5057 - val_accuracy: 0.4763\n",
            "Epoch 10/40\n",
            "116/116 [==============================] - 169s 1s/step - loss: 1.4315 - accuracy: 0.4994 - val_loss: 1.5223 - val_accuracy: 0.4759\n",
            "Epoch 11/40\n",
            "116/116 [==============================] - 168s 1s/step - loss: 1.3984 - accuracy: 0.5105 - val_loss: 1.3700 - val_accuracy: 0.5187\n",
            "Epoch 12/40\n",
            "116/116 [==============================] - 181s 2s/step - loss: 1.3658 - accuracy: 0.5208 - val_loss: 1.3411 - val_accuracy: 0.5276\n",
            "Epoch 13/40\n",
            "116/116 [==============================] - 171s 1s/step - loss: 1.3352 - accuracy: 0.5306 - val_loss: 1.4819 - val_accuracy: 0.4989\n",
            "Epoch 14/40\n",
            "116/116 [==============================] - 169s 1s/step - loss: 1.3173 - accuracy: 0.5373 - val_loss: 1.3348 - val_accuracy: 0.5312\n",
            "Epoch 15/40\n",
            "116/116 [==============================] - 170s 1s/step - loss: 1.2965 - accuracy: 0.5429 - val_loss: 1.3663 - val_accuracy: 0.5192\n",
            "Epoch 16/40\n",
            "116/116 [==============================] - 172s 1s/step - loss: 1.2725 - accuracy: 0.5500 - val_loss: 1.3153 - val_accuracy: 0.5346\n",
            "Epoch 17/40\n",
            "116/116 [==============================] - 169s 1s/step - loss: 1.2530 - accuracy: 0.5575 - val_loss: 1.2796 - val_accuracy: 0.5476\n",
            "Epoch 18/40\n",
            "116/116 [==============================] - 169s 1s/step - loss: 1.2431 - accuracy: 0.5620 - val_loss: 1.2897 - val_accuracy: 0.5513\n",
            "Epoch 19/40\n",
            "116/116 [==============================] - 166s 1s/step - loss: 1.2244 - accuracy: 0.5650 - val_loss: 1.2619 - val_accuracy: 0.5590\n",
            "Epoch 20/40\n",
            "116/116 [==============================] - 166s 1s/step - loss: 1.2052 - accuracy: 0.5737 - val_loss: 1.2441 - val_accuracy: 0.5654\n",
            "Epoch 21/40\n",
            "116/116 [==============================] - 167s 1s/step - loss: 1.1938 - accuracy: 0.5784 - val_loss: 1.3187 - val_accuracy: 0.5380\n",
            "Epoch 22/40\n",
            "116/116 [==============================] - 171s 1s/step - loss: 1.1814 - accuracy: 0.5808 - val_loss: 1.2128 - val_accuracy: 0.5727\n",
            "Epoch 23/40\n",
            "116/116 [==============================] - 167s 1s/step - loss: 1.1705 - accuracy: 0.5836 - val_loss: 1.2796 - val_accuracy: 0.5506\n",
            "Epoch 24/40\n",
            "116/116 [==============================] - 167s 1s/step - loss: 1.1594 - accuracy: 0.5871 - val_loss: 1.2243 - val_accuracy: 0.5671\n",
            "Epoch 25/40\n",
            "116/116 [==============================] - 167s 1s/step - loss: 1.1461 - accuracy: 0.5920 - val_loss: 1.2010 - val_accuracy: 0.5736\n",
            "Epoch 26/40\n",
            "116/116 [==============================] - 168s 1s/step - loss: 1.1342 - accuracy: 0.5965 - val_loss: 1.2456 - val_accuracy: 0.5613\n",
            "Epoch 27/40\n",
            "116/116 [==============================] - 167s 1s/step - loss: 1.1275 - accuracy: 0.5989 - val_loss: 1.3188 - val_accuracy: 0.5533\n",
            "Epoch 28/40\n",
            "116/116 [==============================] - 168s 1s/step - loss: 1.1208 - accuracy: 0.6010 - val_loss: 1.2010 - val_accuracy: 0.5733\n",
            "Epoch 29/40\n",
            "116/116 [==============================] - 168s 1s/step - loss: 1.1101 - accuracy: 0.6033 - val_loss: 1.1846 - val_accuracy: 0.5793\n",
            "Epoch 30/40\n",
            "116/116 [==============================] - 170s 1s/step - loss: 1.0989 - accuracy: 0.6073 - val_loss: 1.2305 - val_accuracy: 0.5647\n",
            "Epoch 31/40\n",
            "116/116 [==============================] - 168s 1s/step - loss: 1.0923 - accuracy: 0.6100 - val_loss: 1.2121 - val_accuracy: 0.5793\n",
            "Epoch 32/40\n",
            "116/116 [==============================] - 167s 1s/step - loss: 1.0853 - accuracy: 0.6113 - val_loss: 1.2955 - val_accuracy: 0.5524\n",
            "Epoch 33/40\n",
            "116/116 [==============================] - 169s 1s/step - loss: 1.0808 - accuracy: 0.6148 - val_loss: 1.2364 - val_accuracy: 0.5654\n",
            "Epoch 34/40\n",
            "116/116 [==============================] - 169s 1s/step - loss: 1.0730 - accuracy: 0.6180 - val_loss: 1.2184 - val_accuracy: 0.5776\n",
            "Epoch 35/40\n",
            "116/116 [==============================] - 169s 1s/step - loss: 1.0678 - accuracy: 0.6177 - val_loss: 1.3135 - val_accuracy: 0.5466\n",
            "Epoch 36/40\n",
            "116/116 [==============================] - 169s 1s/step - loss: 1.0634 - accuracy: 0.6202 - val_loss: 1.1530 - val_accuracy: 0.5935\n",
            "Epoch 37/40\n",
            "116/116 [==============================] - 168s 1s/step - loss: 1.0481 - accuracy: 0.6240 - val_loss: 1.1702 - val_accuracy: 0.5899\n",
            "Epoch 38/40\n",
            "116/116 [==============================] - 168s 1s/step - loss: 1.0517 - accuracy: 0.6243 - val_loss: 1.2009 - val_accuracy: 0.5811\n",
            "Epoch 39/40\n",
            "116/116 [==============================] - 169s 1s/step - loss: 1.0410 - accuracy: 0.6274 - val_loss: 1.1895 - val_accuracy: 0.5868\n",
            "Epoch 40/40\n",
            "116/116 [==============================] - 168s 1s/step - loss: 1.0354 - accuracy: 0.6314 - val_loss: 1.1690 - val_accuracy: 0.5880\n"
          ]
        }
      ],
      "source": [
        "# Définir le callback EarlyStopping\n",
        "early_stopping = EarlyStopping(monitor='loss', patience=3, restore_best_weights=True)\n",
        "\n",
        "# Entraîner le modèle avec EarlyStopping\n",
        "history = model.fit(\n",
        "    X_tensor, Y_tensor,\n",
        "    validation_split=0.2,\n",
        "    batch_size=1000,\n",
        "    epochs=100,\n",
        "    callbacks=[early_stopping]\n",
        ")"
      ]
    },
    {
      "cell_type": "code",
      "execution_count": null,
      "id": "5a4d674f",
      "metadata": {
        "id": "5a4d674f"
      },
      "outputs": [],
      "source": [
        "# Sauvegarder les poids du modèle\n",
        "model.save_weights('model_weights.h5')"
      ]
    },
    {
      "cell_type": "code",
      "execution_count": null,
      "id": "bc4f1542",
      "metadata": {
        "id": "bc4f1542",
        "outputId": "fe2d0bb4-c7f6-4b4a-95d3-eebd5047e0b0"
      },
      "outputs": [
        {
          "data": {
            "image/png": "[encoded data removed]",
            "text/plain": [
              "<Figure size 2000x600 with 2 Axes>"
            ]
          },
          "metadata": {},
          "output_type": "display_data"
        }
      ],
      "source": [
        "import matplotlib.pyplot as plt\n",
        "\n",
        "# Fonction pour tracer les courbes d'accuracy et de validation accuracy et de loss et de validation loss dans la même ligne\n",
        "def plot_accuracy_and_loss(history):\n",
        "    fig, ax = plt.subplots(1, 2, figsize=(20, 6))\n",
        "\n",
        "    # Accuracy subplot\n",
        "    ax[0].plot(history.history['accuracy'], label='Training Accuracy')\n",
        "    ax[0].plot(history.history['val_accuracy'], label='Validation Accuracy')\n",
        "    ax[0].set_title('Training and Validation Accuracy')\n",
        "    ax[0].set_xlabel('Epochs')\n",
        "    ax[0].set_ylabel('Accuracy')\n",
        "    ax[0].legend()\n",
        "\n",
        "    # Loss subplot\n",
        "    ax[1].plot(history.history['loss'], label='Training Loss')\n",
        "    ax[1].plot(history.history['val_loss'], label='Validation Loss')\n",
        "    ax[1].set_title('Training and Validation Loss')\n",
        "    ax[1].set_xlabel('Epochs')\n",
        "    ax[1].set_ylabel('Loss')\n",
        "    ax[1].legend()\n",
        "\n",
        "    plt.tight_layout()\n",
        "    plt.show()\n",
        "\n",
        "# Tracer les courbes\n",
        "plot_accuracy_and_loss(history)"
      ]
    },
    {
      "cell_type": "code",
      "execution_count": null,
      "id": "37347ecf",
      "metadata": {
        "id": "37347ecf"
      },
      "outputs": [],
      "source": []
    },
    {
      "cell_type": "markdown",
      "id": "f47a6d85",
      "metadata": {
        "id": "f47a6d85"
      },
      "source": [
        "# <span style=\"color:red;\">Evaluation de modele </span>"
      ]
    },
    {
      "cell_type": "code",
      "execution_count": null,
      "id": "db0d6227",
      "metadata": {
        "id": "db0d6227",
        "outputId": "1c1f2153-f57c-41ed-c40a-8ee090f79e72"
      },
      "outputs": [
        {
          "name": "stdout",
          "output_type": "stream",
          "text": [
            "Précision sur l'ensemble de test: 0.5838930606842041\n",
            "503/503 [==============================] - 17s 31ms/step\n",
            "Rapport de classification:\n",
            "              precision    recall  f1-score   support\n",
            "\n",
            "           0       0.48      0.80      0.60       670\n",
            "           1       0.55      0.52      0.53       670\n",
            "           2       0.44      0.51      0.47       670\n",
            "           3       0.48      0.60      0.53       670\n",
            "           4       0.62      0.43      0.51       670\n",
            "           5       0.58      0.54      0.56       670\n",
            "           6       0.65      0.63      0.64       670\n",
            "           7       0.67      0.39      0.49       670\n",
            "           8       0.74      0.82      0.78       670\n",
            "           9       0.58      0.48      0.52       670\n",
            "          10       0.69      0.50      0.58       670\n",
            "          11       0.59      0.57      0.58       670\n",
            "          12       0.59      0.62      0.60       670\n",
            "          13       0.57      0.69      0.63       670\n",
            "          14       0.65      0.61      0.63       670\n",
            "          15       0.61      0.52      0.56       670\n",
            "          16       0.73      0.75      0.74       670\n",
            "          17       0.46      0.40      0.43       670\n",
            "          18       0.63      0.60      0.62       670\n",
            "          19       0.85      0.80      0.83       670\n",
            "          20       0.48      0.69      0.56       670\n",
            "          21       0.50      0.35      0.41       670\n",
            "          22       0.62      0.60      0.61       670\n",
            "          23       0.49      0.61      0.54       670\n",
            "\n",
            "    accuracy                           0.58     16080\n",
            "   macro avg       0.59      0.58      0.58     16080\n",
            "weighted avg       0.59      0.58      0.58     16080\n",
            "\n",
            "Matrice de confusion:\n",
            "[[537   0   0   0   1   0   0   0   1  60   0   0   0   0   0   0   6  18\n",
            "    4   0   5  23  15   0]\n",
            " [  0 347   6   5   0   5  97   3   2   0   3  12  27  43  66  24   0   0\n",
            "    0  17   5   0   0   8]\n",
            " [  0  14 340  40   0  78   2  29  14   0   0   0   6  30   5  11   0   0\n",
            "    0   0   3   0   0  98]\n",
            " [  2   4  28 403   7  58   4   9  24   1  13   8  10   5   2  18   0   0\n",
            "    0   1  44   4   3  22]\n",
            " [ 28   0   1  35 290   3   0   1   4  16  22  16  13   5   4   6  85  27\n",
            "   83   2   7   2  19   1]\n",
            " [  0   8  68 121   2 361   0   2  14   0   2   4   5   8   3  22   0   0\n",
            "    0   0  19   4   2  25]\n",
            " [  0 104   3   4   0   1 423   0  10   0   0   2  10  27  55   2   0   0\n",
            "    1  14   5   0   0   9]\n",
            " [  0   7 127  23   0  15   3 260  21   0   0   1   2  56   0  31   0   0\n",
            "    0   0   2   0   0 122]\n",
            " [  0   2  10  28   0   8   5   3 549   0   0   2   3   6   4   1   0   0\n",
            "    0   2   9   1   0  37]\n",
            " [136   1   0   1  10   0   0   0   1 322   3   7   1   0   0   0   9 139\n",
            "   15   0   4   9  12   0]\n",
            " [  2   5   1  27  28   7   0   0   3   5 336  22  42   0   3   3  17  27\n",
            "   85   0  45   8   4   0]\n",
            " [  0   7   4  29   5  10   0   3   8   4  11 381 104  26  12  45   0   1\n",
            "    1   3  11   1   2   2]\n",
            " [  0   9   1  11   4  12   3   9   6   0  32  91 414  18   9   9   0   3\n",
            "    8   9  12   1   0   9]\n",
            " [  0  13  31  13   0   7  10  14   9   0   0  21   7 461   2  18   0   0\n",
            "    0   2   2   0   0  60]\n",
            " [  0  80   4   7   1   1  61   0   6   0   6  16  24   4 406   5   0   0\n",
            "    0  41   2   0   0   6]\n",
            " [  0   9  30  32   6  30   3  38  21   0   2  44   3  63   1 346   0   0\n",
            "    0   1  15   1   1  24]\n",
            " [ 31   0   0   3  26   0   0   0   0   8   6   0   1   0   0   0 500  31\n",
            "   18   0  10   6  30   0]\n",
            " [130   1   0   2   8   0   0   0   2 127  22   5   4   0   2   0  16 266\n",
            "   17   0  11  20  37   0]\n",
            " [ 22   0   0   1  69   1   0   0   0   7  26   8   5   0   3   1  45  34\n",
            "  405   0  10   8  25   0]\n",
            " [  0  13   3   0   0   0  37   1   2   0   1   2  12   8  46   3   0   0\n",
            "    0 539   1   0   0   2]\n",
            " [  8   4   1  33   2   4   0   0   6   2   2   4   1   0   0   8   1   5\n",
            "    3   2 460  98  24   2]\n",
            " [ 79   1   0  13   3   3   0   2   4   2   0   1   2   0   0   4   0  13\n",
            "    2   0 240 232  69   0]\n",
            " [139   0   0   2   7   0   0   0   5   5   0   0   1   0   1   0   5  14\n",
            "    2   0  41  47 401   0]\n",
            " [  0   0 120   6   0  17   1  16  25   0   1   4   9  43   3  11   0   0\n",
            "    0   1   3   0   0 410]]\n"
          ]
        }
      ],
      "source": [
        "# Évaluer le modèle sur l'ensemble de test\n",
        "loss, accuracy = model.evaluate(X_tensor_test, Y_tensor_test, verbose=0)\n",
        "print(f'Précision sur l\\'ensemble de test: {accuracy}')\n",
        "\n",
        "# Faire des prédictions et évaluer les performances\n",
        "y_pred = model.predict(X_tensor_test)\n",
        "y_pred_classes = np.argmax(y_pred, axis=1)\n",
        "y_true = np.argmax(Y_reshaped_test, axis=1)\n",
        "\n",
        "print('Rapport de classification:')\n",
        "print(classification_report(y_true, y_pred_classes))\n",
        "print('Matrice de confusion:')\n",
        "print(confusion_matrix(y_true, y_pred_classes))"
      ]
    },
    {
      "cell_type": "code",
      "execution_count": null,
      "id": "58503689",
      "metadata": {
        "id": "58503689",
        "outputId": "eebd781e-dff4-4552-9a16-c22bcfce1c55"
      },
      "outputs": [
        {
          "name": "stderr",
          "output_type": "stream",
          "text": [
            "C:\\Users\\Dell\\anaconda3\\Lib\\site-packages\\keras\\src\\engine\\training.py:3103: UserWarning: You are saving your model as an HDF5 file via `model.save()`. This file format is considered legacy. We recommend using instead the native Keras format, e.g. `model.save('my_model.keras')`.\n",
            "  saving_api.save_model(\n"
          ]
        }
      ],
      "source": [
        "model.save('model.h5')"
      ]
    },
    {
      "cell_type": "markdown",
      "id": "82dcbafd",
      "metadata": {
        "id": "82dcbafd"
      },
      "source": [
        "# <span style=\"color:red;\">Soumission </span>"
      ]
    },
    {
      "cell_type": "code",
      "execution_count": null,
      "id": "2deeff3e",
      "metadata": {
        "id": "2deeff3e"
      },
      "outputs": [],
      "source": [
        "# Load final test data\n",
        "X_test_final = pd.read_csv(\"D:\\\\desktopnisrine\\\\PFA\\\\Data\\\\X_test_m4HAPAP.csv\")"
      ]
    },
    {
      "cell_type": "code",
      "execution_count": null,
      "id": "d056897e",
      "metadata": {
        "id": "d056897e",
        "outputId": "5edbb57a-0a39-4d93-a8a8-8fffba55dd85"
      },
      "outputs": [
        {
          "name": "stdout",
          "output_type": "stream",
          "text": [
            "(8160000, 12)\n"
          ]
        }
      ],
      "source": [
        "print(X_test_final.shape)"
      ]
    },
    {
      "cell_type": "code",
      "execution_count": null,
      "id": "4fb5b9f9",
      "metadata": {
        "id": "4fb5b9f9",
        "outputId": "89153def-603e-467e-f59e-f683b6fd633d"
      },
      "outputs": [
        {
          "name": "stdout",
          "output_type": "stream",
          "text": [
            "Number of features: 30\n"
          ]
        }
      ],
      "source": [
        "# One-hot encoding pour colonnes 'venue' and 'trade'\n",
        "df1_testf = one_hot_encode(X_test_final, 'venue', 8)\n",
        "df3_testf = one_hot_encode(X_test_final, 'trade', 8)\n",
        "\n",
        "# One-hot encoding pour colonne 'action'\n",
        "encoded_columnsf = pd.get_dummies(X_test_final['action'], prefix='action')\n",
        "\n",
        "# Ensure 'action_0' column exists and is set to zero\n",
        "if 'action_0' not in encoded_columnsf.columns:\n",
        "    encoded_columnsf['action_0'] = 0\n",
        "\n",
        "for i in range(8):\n",
        "    col_name = f'action_{i}'\n",
        "    if col_name not in encoded_columnsf.columns:\n",
        "        encoded_columnsf[col_name] = 0\n",
        "\n",
        "\n",
        "ordered_columns = ['action_0'] + [f'action_{i}' for i in range(1, 8)]\n",
        "encoded_columnsf = encoded_columnsf[ordered_columns]\n",
        "\n",
        "df2_testf = pd.DataFrame(encoded_columnsf)\n",
        "\n",
        "# Log Transform pour certain colonnes\n",
        "X_test_final['flux'] = X_test_final['flux'] - X_test_final['flux'].min() + 1\n",
        "data_testf = {\n",
        "    'log(bid_size+1)': np.sign(X_test_final['bid_size']) * np.log(np.abs(X_test_final['bid_size']) + 1),\n",
        "    'log(ask_size+1)': np.log(X_test_final['ask_size'] + 1),\n",
        "    'log(flux)': np.log(X_test_final['flux'])\n",
        "}\n",
        "dfa_testf = pd.DataFrame(data_testf)\n",
        "\n",
        "\n",
        "X_selected_testf = X_test_final[['bid', 'ask', 'price']]\n",
        "\n",
        "\n",
        "df_combined_testf = pd.concat([df1_testf, df2_testf, df3_testf, X_selected_testf, dfa_testf], axis=1)\n",
        "\n",
        "num_sequences_testf = len(df_combined_testf) // 100\n",
        "X_combined_testf = df_combined_testf.iloc[:num_sequences_testf * 100]\n",
        "\n",
        "num_features = X_combined_testf.shape[1]\n",
        "print(f\"Number of features: {num_features}\")\n",
        "\n",
        "\n",
        "X_reshaped_testf = X_combined_testf.values.reshape(num_sequences_testf, 100, num_features)\n",
        "\n",
        "# Convert to tensor\n",
        "X_tensor_testf = tf.convert_to_tensor(X_reshaped_testf, dtype=tf.float32)"
      ]
    },
    {
      "cell_type": "code",
      "execution_count": null,
      "id": "26c2fc23",
      "metadata": {
        "id": "26c2fc23",
        "outputId": "11d4a0a5-5a6d-4060-acc7-5519278799da"
      },
      "outputs": [
        {
          "name": "stdout",
          "output_type": "stream",
          "text": [
            "2550/2550 [==============================] - 92s 35ms/step\n"
          ]
        }
      ],
      "source": [
        "from keras.models import load_model\n",
        "\n",
        "model = load_model('model.h5')\n",
        "\n",
        "\n",
        "y_pred = model.predict(X_tensor_testf)\n",
        "\n",
        "# Convert predictions to class labels\n",
        "y_pred_class = np.argmax(y_pred, axis=1)\n",
        "\n",
        "Sobs_id = X_test_final['obs_id'][:len(y_pred_class) * 100:100]\n",
        "\n",
        "\n",
        "df_predictions = pd.DataFrame({\n",
        "    'obs_id': obs_id,\n",
        "    'Prediction': y_pred_class\n",
        "})\n",
        "\n",
        "# Save predictions to a CSV file\n",
        "df_predictions.to_csv('predictions.csv', index=False)"
      ]
    },
    {
      "cell_type": "code",
      "execution_count": null,
      "id": "709c7413",
      "metadata": {
        "id": "709c7413",
        "outputId": "c3f1f817-2b53-4318-d00d-836476a9905b"
      },
      "outputs": [
        {
          "name": "stdout",
          "output_type": "stream",
          "text": [
            "Predictions saved to 'predictions.csv'.\n"
          ]
        }
      ],
      "source": [
        "print(\"Predictions saved to 'predictions.csv'.\")"
      ]
    },
    {
      "cell_type": "code",
      "execution_count": null,
      "id": "f31aa951",
      "metadata": {
        "id": "f31aa951",
        "outputId": "3c9ed0b6-9f85-4c5c-b923-8d4727dadc12"
      },
      "outputs": [
        {
          "name": "stdout",
          "output_type": "stream",
          "text": [
            "16    9021\n",
            "19    6499\n",
            "12    6466\n",
            "0     6219\n",
            "15    5999\n",
            "9     5779\n",
            "6     5655\n",
            "4     4356\n",
            "11    3906\n",
            "13    3841\n",
            "1     3211\n",
            "14    2923\n",
            "8     2460\n",
            "17    2358\n",
            "3     2195\n",
            "18    2159\n",
            "22    1927\n",
            "10    1770\n",
            "7     1441\n",
            "23    1354\n",
            "20     993\n",
            "5      505\n",
            "21     383\n",
            "2      180\n",
            "Name: Prediction, dtype: int64\n"
          ]
        }
      ],
      "source": [
        "# Charger le fichier predictions.csv\n",
        "df_predictions = pd.read_csv('predictions.csv')\n",
        "\n",
        "# Compter le nombre d'éléments dans chaque classe\n",
        "class_counts = df_predictions['Prediction'].value_counts()\n",
        "\n",
        "# Afficher le résultat\n",
        "print(class_counts)"
      ]
    },
    {
      "cell_type": "code",
      "execution_count": null,
      "id": "92b201a1",
      "metadata": {
        "id": "92b201a1"
      },
      "outputs": [],
      "source": [
        "import json\n",
        "\n",
        "# Définir les hyperparamètres\n",
        "hyperparameters = {\n",
        "    'sequence_length': 100,\n",
        "    'feature_dim': 30,\n",
        "    'gru_units': 64,\n",
        "    'dropout_rate': 0.2,\n",
        "    'dense_units': [128, 64],\n",
        "    'activation': 'selu',\n",
        "    'output_units': 24,\n",
        "    'output_activation': 'softmax',\n",
        "    'optimizer': 'adam',\n",
        "    'learning_rate': 3e-3,\n",
        "    'loss': 'categorical_crossentropy',\n",
        "    'batch_size': 1000,\n",
        "    'epochs': 100,\n",
        "    'patience': 10\n",
        "}\n",
        "\n",
        "# Sauvegarder les hyperparamètres dans un fichier JSON\n",
        "with open('hyperparameters.json', 'w') as f:\n",
        "    json.dump(hyperparameters, f, indent=4)"
      ]
    },
    {
      "cell_type": "code",
      "execution_count": null,
      "id": "814dd1c4",
      "metadata": {
        "id": "814dd1c4",
        "outputId": "12550138-8f14-48ee-8aff-d38fa6ba990b"
      },
      "outputs": [
        {
          "name": "stdout",
          "output_type": "stream",
          "text": [
            "(81600, 2)\n"
          ]
        }
      ],
      "source": [
        "print(df_predictions.shape)"
      ]
    }
  ],
  "metadata": {
    "kernelspec": {
      "display_name": "Python 3 (ipykernel)",
      "language": "python",
      "name": "python3"
    },
    "language_info": {
      "codemirror_mode": {
        "name": "ipython",
        "version": 3
      },
      "file_extension": ".py",
      "mimetype": "text/x-python",
      "name": "python",
      "nbconvert_exporter": "python",
      "pygments_lexer": "ipython3",
      "version": "3.11.4"
    },
    "colab": {
      "provenance": []
    }
  },
  "nbformat": 4,
  "nbformat_minor": 5
}