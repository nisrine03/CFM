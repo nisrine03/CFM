{
 "cells": [
  {
   "cell_type": "code",
   "execution_count": 1,
   "id": "0bbb40ec",
   "metadata": {},
   "outputs": [
    {
     "name": "stdout",
     "output_type": "stream",
     "text": [
      "WARNING:tensorflow:From C:\\Users\\Dell\\anaconda3\\Lib\\site-packages\\keras\\src\\losses.py:2976: The name tf.losses.sparse_softmax_cross_entropy is deprecated. Please use tf.compat.v1.losses.sparse_softmax_cross_entropy instead.\n",
      "\n"
     ]
    }
   ],
   "source": [
    "import tensorflow as tf\n",
    "from tensorflow.keras.layers import GRU, Dense, Input, Bidirectional\n",
    "from tensorflow.keras.models import Model\n",
    "from tensorflow.keras.optimizers import Adam\n",
    "import pandas as pd\n",
    "import numpy as np\n",
    "\n",
    "# Charger les données\n",
    "ft = pd.read_csv(\"C:\\\\Users\\\\Dell\\\\Desktop\\\\PFA\\\\Data\\\\X_train_N1UvY30.csv\")\n",
    "tat = pd.read_csv(\"C:\\\\Users\\\\Dell\\\\Desktop\\\\PFA\\\\Data\\\\y_train_or6m3Ta.csv\")\n",
    "\n",
    "# Sample observations\n",
    "obs_id_by_class = tat.groupby('eqt_code_cat')['obs_id'].apply(list)\n",
    "\n",
    "def sample_obs_ids(group):\n",
    "    n_sample = int(len(group) * 0.2)\n",
    "    sampled_obs_ids = group.sample(n=n_sample, random_state=42)['obs_id']\n",
    "    return sampled_obs_ids\n",
    "\n",
    "sampled_obs_ids_by_class = tat.groupby('eqt_code_cat', group_keys=False).apply(sample_obs_ids)\n",
    "sampled_obs_ids_df = pd.DataFrame({'obs_id': sampled_obs_ids_by_class})\n",
    "\n",
    "# Split data into train and test sets\n",
    "X_test = ft[ft['obs_id'].isin(sampled_obs_ids_df['obs_id'])]\n",
    "X_train = ft[~ft['obs_id'].isin(sampled_obs_ids_df['obs_id'])]\n",
    "\n",
    "Y_test = tat[tat['obs_id'].isin(X_test['obs_id'])][['obs_id', 'eqt_code_cat']]\n",
    "Y_train = tat[tat['obs_id'].isin(X_train['obs_id'])][['obs_id', 'eqt_code_cat']]\n",
    "# Enregistrer X_train et X_test dans des fichiers CSV\n",
    "X_train.to_csv('X_train.csv', index=False)\n",
    "X_test.to_csv('X_test.csv', index=False)\n",
    "\n",
    "# Enregistrer Y_train et Y_test dans des fichiers CSV\n",
    "Y_train.to_csv('Y_train.csv', index=False)\n",
    "Y_test.to_csv('Y_test.csv', index=False)"
   ]
  },
  {
   "cell_type": "code",
   "execution_count": 2,
   "id": "73f39032",
   "metadata": {},
   "outputs": [],
   "source": [
    "data_train_x=pd.read_csv(\"X_train.csv\")\n",
    "data_train_y=pd.read_csv(\"Y_train.csv\")\n",
    "data_test_x=pd.read_csv(\"X_test.csv\")\n",
    "data_test_y=pd.read_csv(\"Y_test.csv\")"
   ]
  },
  {
   "cell_type": "code",
   "execution_count": 3,
   "id": "295b291b",
   "metadata": {},
   "outputs": [
    {
     "name": "stdout",
     "output_type": "stream",
     "text": [
      "(12864000, 12)\n",
      "(128640, 2)\n",
      "(3216000, 12)\n",
      "(32160, 2)\n"
     ]
    }
   ],
   "source": [
    "print(data_train_x.shape)\n",
    "print(data_train_y.shape)\n",
    "print(data_test_x.shape)\n",
    "print(data_test_y.shape)"
   ]
  }
 ],
 "metadata": {
  "kernelspec": {
   "display_name": "Python 3 (ipykernel)",
   "language": "python",
   "name": "python3"
  },
  "language_info": {
   "codemirror_mode": {
    "name": "ipython",
    "version": 3
   },
   "file_extension": ".py",
   "mimetype": "text/x-python",
   "name": "python",
   "nbconvert_exporter": "python",
   "pygments_lexer": "ipython3",
   "version": "3.11.4"
  }
 },
 "nbformat": 4,
 "nbformat_minor": 5
}
